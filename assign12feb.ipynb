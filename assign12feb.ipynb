{
 "cells": [
  {
   "cell_type": "code",
   "execution_count": 1,
   "id": "23e0f6d7-a17a-4b8e-972f-7b280c6f2a93",
   "metadata": {},
   "outputs": [],
   "source": [
    "#question1\n",
    "# When the proper syntax of the language is not followed then a syntax error is thrown.\n",
    "# When in the runtime an error that occurs after passing the syntax test is called exception or logical type. \n",
    "# For example, when we divide any number by zero then the ZeroDivisionError exception is raised, \n",
    "# or when we import a module that does not exist then ImportError is raised.\n",
    "# The syntax error occurs when the code does not conform to Python keywords, naming style, or programming structure\n",
    "# An exception arrises at runtime."
   ]
  },
  {
   "cell_type": "code",
   "execution_count": 5,
   "id": "34a1bf7a-688d-4111-bb23-d1ae819daf19",
   "metadata": {},
   "outputs": [
    {
     "name": "stdin",
     "output_type": "stream",
     "text": [
      "Enter a number 3\n",
      "Enter a number 4\n"
     ]
    },
    {
     "name": "stdout",
     "output_type": "stream",
     "text": [
      "0.75\n",
      "this is division \n"
     ]
    }
   ],
   "source": [
    "#question2\n",
    "# When an exception occurred, if you don’t handle it, \n",
    "# the program terminates abruptly and the code past the line that caused the exception will not get executed.\n",
    "\n",
    "a = int(input(\"Enter a number\"))\n",
    "b = int(input(\"Enter a number\"))\n",
    "\n",
    "print(a/b) #the program terminates abruptly when b = 0 as zerodivisionerror is raised and the next print statement is also not executed..\n",
    "print(\"this is division \")\n"
   ]
  },
  {
   "cell_type": "code",
   "execution_count": 8,
   "id": "2cbae50e-31bd-4245-94b5-e6dc3f739b71",
   "metadata": {},
   "outputs": [
    {
     "name": "stdin",
     "output_type": "stream",
     "text": [
      "Enter a number 4\n",
      "Enter a number 0\n"
     ]
    },
    {
     "name": "stdout",
     "output_type": "stream",
     "text": [
      "the value of denominator cannot be zero\n"
     ]
    }
   ],
   "source": [
    "#question3\n",
    "#The try and except block in Python is used to catch and handle exceptions\n",
    "\n",
    "a = int(input(\"Enter a number\"))\n",
    "b = int(input(\"Enter a number\"))\n",
    "\n",
    "try:\n",
    "    print(a/b) #the program terminates abruptly when b = 0 as zerodivisionerror is raised and the next print statement is also not executed..    \n",
    "except:\n",
    "    print(\"the value of denominator cannot be zero\")\n"
   ]
  },
  {
   "cell_type": "code",
   "execution_count": 9,
   "id": "59227ab2-0a64-4891-85c3-871f9a6b7572",
   "metadata": {},
   "outputs": [
    {
     "name": "stdout",
     "output_type": "stream",
     "text": [
      "Yeah ! Your answer is : 1\n",
      "This is always executed\n",
      "Sorry ! You are dividing by zero \n",
      "This is always executed\n"
     ]
    }
   ],
   "source": [
    "#question4\n",
    "\n",
    "# Try: This block will test the excepted error to occur\n",
    "# Except:  Here you can handle the error\n",
    "# Else: If there is no exception then this block will be executed\n",
    "# Finally: Finally block always gets executed either exception is generated or not\n",
    "\n",
    "def divide(x, y):\n",
    "    try:\n",
    "        result = x // y\n",
    "    except ZeroDivisionError:\n",
    "        print(\"Sorry ! You are dividing by zero \")\n",
    "    else:\n",
    "        print(\"Yeah ! Your answer is :\", result)\n",
    "    finally: \n",
    "        # this block is always executed  \n",
    "        # regardless of exception generation. \n",
    "        print('This is always executed')  \n",
    " \n",
    "# Look at parameters and note the working of Program\n",
    "divide(3, 2)\n",
    "divide(3, 0)"
   ]
  },
  {
   "cell_type": "code",
   "execution_count": 10,
   "id": "1cdd1dc7-ed6c-48ec-9887-0d0b36f000ee",
   "metadata": {},
   "outputs": [],
   "source": [
    "#question5\n",
    "\n",
    "# Custom Exceptions are user defined exceptions that are necessary when we write custom code or develop some application. \n",
    "# Custom exceptions provide you the flexibility to add attributes and methods that are not part of a standard Java exception. \n",
    "# These can store additional information, like an application-specific error code, \n",
    "# or provide utility methods that can be used to handle or present the exception to a user.\n",
    "\n",
    "# for example- You want to design a marriage proposal application which takes your age as input \n",
    "#              and finds a match if your age is within the suitable for marriage. \n",
    "#              Otherwise, if you are too old and too young, in that case, exceptions are raised for both respectively."
   ]
  },
  {
   "cell_type": "code",
   "execution_count": 11,
   "id": "3259b989-7485-4b3b-beb2-ecc31754d870",
   "metadata": {},
   "outputs": [
    {
     "name": "stdin",
     "output_type": "stream",
     "text": [
      "enter age 45\n"
     ]
    },
    {
     "name": "stdout",
     "output_type": "stream",
     "text": [
      "will soon contact you..\n"
     ]
    }
   ],
   "source": [
    "#question 6\n",
    "#the code for the above example is:\n",
    "\n",
    "class TooOldException(Exception):\n",
    "    def __init__(self,msg):\n",
    "        self.msg=msg\n",
    "\n",
    "class TooYoungException(Exception):\n",
    "    def __init__(self,msg):\n",
    "        self.msg=msg\n",
    "        \n",
    "def marriage_proposal(age):\n",
    "    if age>60:\n",
    "        raise TooOldException(\"your age is way too much to get a match\")\n",
    "    elif age<18:\n",
    "        raise TooYoungException(\"your age is way too low to get a match\")\n",
    "    else:\n",
    "        print(\"will soon contact you..\")\n",
    "        \n",
    "try:\n",
    "    age=int(input(\"enter age\"))\n",
    "    marriage_proposal(age)\n",
    "except Exception as e:\n",
    "    print(e)\n",
    "    "
   ]
  },
  {
   "cell_type": "code",
   "execution_count": null,
   "id": "967f4f0b-8e49-488c-820a-bc3b850de063",
   "metadata": {},
   "outputs": [],
   "source": []
  }
 ],
 "metadata": {
  "kernelspec": {
   "display_name": "Python 3 (ipykernel)",
   "language": "python",
   "name": "python3"
  },
  "language_info": {
   "codemirror_mode": {
    "name": "ipython",
    "version": 3
   },
   "file_extension": ".py",
   "mimetype": "text/x-python",
   "name": "python",
   "nbconvert_exporter": "python",
   "pygments_lexer": "ipython3",
   "version": "3.10.8"
  }
 },
 "nbformat": 4,
 "nbformat_minor": 5
}
